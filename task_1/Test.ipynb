{
 "cells": [
  {
   "cell_type": "code",
   "execution_count": null,
   "id": "7273c115-6563-4947-bde7-883a27dbe439",
   "metadata": {},
   "outputs": [],
   "source": [
    "from numpy import Array"
   ]
  },
  {
   "cell_type": "code",
   "execution_count": null,
   "id": "284054e5-12ad-4026-a837-2342d9d6a8d3",
   "metadata": {},
   "outputs": [],
   "source": [
    "import sys\n",
    "import os\n",
    "\n",
    "# Ensure the current directory is at the beginning of sys.path\n",
    "current_directory = os.path.abspath('.')\n",
    "if current_directory not in sys.path:\n",
    "    sys.path.insert(0, current_directory)\n",
    "\n",
    "# Clear the numpy module if it's already imported\n",
    "if 'numpy' in sys.modules:\n",
    "    del sys.modules['numpy']"
   ]
  },
  {
   "cell_type": "code",
   "execution_count": null,
   "id": "0af698ee-4982-44d3-b182-f0638c600684",
   "metadata": {},
   "outputs": [],
   "source": [
    "a = Array([1,2,3,4])\n",
    "print(a)\n",
    "a"
   ]
  },
  {
   "cell_type": "code",
   "execution_count": null,
   "id": "cacec882-7013-4fcc-89d6-9c47b215e3e0",
   "metadata": {},
   "outputs": [],
   "source": [
    "a + a"
   ]
  },
  {
   "cell_type": "code",
   "execution_count": null,
   "id": "9ec52c69-66eb-4dc1-926b-b5ab606854fb",
   "metadata": {},
   "outputs": [],
   "source": [
    "b = Array([[1,2],[3,4]])\n",
    "b + b"
   ]
  },
  {
   "cell_type": "code",
   "execution_count": null,
   "id": "5e56c09a-29f8-4679-a07e-17b100a1e2d9",
   "metadata": {},
   "outputs": [],
   "source": [
    "a + 2"
   ]
  },
  {
   "cell_type": "code",
   "execution_count": null,
   "id": "789b4af6-95c0-4c1d-a124-d16e33d2bb92",
   "metadata": {},
   "outputs": [],
   "source": [
    "c = Array(5)"
   ]
  },
  {
   "cell_type": "code",
   "execution_count": null,
   "id": "576a7189-9d90-4133-9e00-a0756d77578b",
   "metadata": {},
   "outputs": [],
   "source": [
    "a / b"
   ]
  },
  {
   "cell_type": "code",
   "execution_count": null,
   "id": "c5b7485e-451c-4681-ab22-985aedf9c0c1",
   "metadata": {},
   "outputs": [],
   "source": [
    "Array([[1,3],[2,4]])*2"
   ]
  },
  {
   "cell_type": "code",
   "execution_count": null,
   "id": "48d38259-7823-446a-a49b-a30464d0591a",
   "metadata": {},
   "outputs": [],
   "source": [
    "len(a)"
   ]
  },
  {
   "cell_type": "code",
   "execution_count": null,
   "id": "c90b810d-33e4-4c43-9ace-1967899336cc",
   "metadata": {},
   "outputs": [],
   "source": [
    "a@b"
   ]
  },
  {
   "cell_type": "code",
   "execution_count": null,
   "id": "4859a0d9-6e12-4a34-9fd7-23f65d919dbb",
   "metadata": {},
   "outputs": [],
   "source": [
    "a@a"
   ]
  },
  {
   "cell_type": "code",
   "execution_count": null,
   "id": "783d6bef-acdd-4b02-99e7-36f227e6bd01",
   "metadata": {},
   "outputs": [],
   "source": [
    "len(b)"
   ]
  },
  {
   "cell_type": "code",
   "execution_count": null,
   "id": "896a449c-396c-49fa-9cd0-a14108b30fb9",
   "metadata": {},
   "outputs": [],
   "source": [
    "a.shape"
   ]
  },
  {
   "cell_type": "code",
   "execution_count": null,
   "id": "e6db8a4e-be71-4f62-a712-27216757b21d",
   "metadata": {},
   "outputs": [],
   "source": [
    "b.shape"
   ]
  },
  {
   "cell_type": "code",
   "execution_count": null,
   "id": "4679a0f2-31d3-42da-9ccd-4bb49f318afe",
   "metadata": {},
   "outputs": [],
   "source": [
    "d = Array([3.3,4])\n",
    "d"
   ]
  },
  {
   "cell_type": "code",
   "execution_count": null,
   "id": "78fc3fe1-1d78-4031-8f6c-c98b8f5b2e87",
   "metadata": {},
   "outputs": [],
   "source": [
    "d + 4"
   ]
  },
  {
   "cell_type": "code",
   "execution_count": null,
   "id": "f52e795d-54e0-4843-904c-db7e82806099",
   "metadata": {},
   "outputs": [],
   "source": [
    "d* 4"
   ]
  },
  {
   "cell_type": "code",
   "execution_count": null,
   "id": "1d1f0427-87a2-405a-bedb-7880401bc797",
   "metadata": {},
   "outputs": [],
   "source": [
    "a"
   ]
  },
  {
   "cell_type": "code",
   "execution_count": null,
   "id": "041a7a08-0ebb-4a5b-ae1d-d3e0b1f7dcc7",
   "metadata": {},
   "outputs": [],
   "source": [
    "b[1,1]"
   ]
  },
  {
   "cell_type": "code",
   "execution_count": null,
   "id": "67ad5c0b-b97a-4002-b6ab-343cc7b88e5b",
   "metadata": {},
   "outputs": [],
   "source": [
    "a * Array([5,2,1,2])"
   ]
  },
  {
   "cell_type": "code",
   "execution_count": null,
   "id": "17f80c47-b648-4038-b30b-f1dc5ca5e244",
   "metadata": {},
   "outputs": [],
   "source": [
    "a[0,1]"
   ]
  },
  {
   "cell_type": "code",
   "execution_count": null,
   "id": "88bf23cc-e98e-4ac6-bccc-ad240289710b",
   "metadata": {},
   "outputs": [],
   "source": [
    "b"
   ]
  },
  {
   "cell_type": "code",
   "execution_count": null,
   "id": "1422b267-cce6-41eb-95ea-a5fceeb9ddaa",
   "metadata": {},
   "outputs": [],
   "source": [
    "b[0,1]"
   ]
  },
  {
   "cell_type": "code",
   "execution_count": null,
   "id": "c28b372c-7bf9-4ef2-8d84-8639a0bd28c2",
   "metadata": {},
   "outputs": [],
   "source": [
    "b = Array([[1,2],[3,4]])"
   ]
  },
  {
   "cell_type": "code",
   "execution_count": null,
   "id": "bad3cac5-c9e9-405f-8d69-74bea566bfb4",
   "metadata": {},
   "outputs": [],
   "source": [
    "b[0,0:1]"
   ]
  },
  {
   "cell_type": "code",
   "execution_count": null,
   "id": "ccd5c51d-552a-4b2b-b15c-c52a55d6be3c",
   "metadata": {},
   "outputs": [],
   "source": [
    "b[0:1]"
   ]
  },
  {
   "cell_type": "code",
   "execution_count": null,
   "id": "3605109a-5e30-4a3e-b07d-da31eff7b45f",
   "metadata": {},
   "outputs": [],
   "source": [
    "a[0]"
   ]
  },
  {
   "cell_type": "code",
   "execution_count": null,
   "id": "ab8d485d-b5ff-4bd4-be7e-80351a61903f",
   "metadata": {},
   "outputs": [],
   "source": [
    "a[1:3]"
   ]
  },
  {
   "cell_type": "code",
   "execution_count": null,
   "id": "d1488c09-630c-482d-adbc-c7796e0dd7fb",
   "metadata": {},
   "outputs": [],
   "source": [
    "5 in a"
   ]
  },
  {
   "cell_type": "code",
   "execution_count": null,
   "id": "b73ca3bd-683d-425c-8f2d-73bfa3447a6f",
   "metadata": {},
   "outputs": [],
   "source": [
    "3 in a"
   ]
  },
  {
   "cell_type": "code",
   "execution_count": null,
   "id": "1a3dcf2d-fce4-4926-8647-0629065748f1",
   "metadata": {},
   "outputs": [],
   "source": [
    "4 in b"
   ]
  },
  {
   "cell_type": "code",
   "execution_count": null,
   "id": "9600a475-2aeb-4c2e-8a21-67b983650e65",
   "metadata": {},
   "outputs": [],
   "source": [
    "0 in b"
   ]
  },
  {
   "cell_type": "code",
   "execution_count": null,
   "id": "dfb6254d-46cd-4e63-a84b-3d72f6a57cfc",
   "metadata": {},
   "outputs": [],
   "source": []
  }
 ],
 "metadata": {
  "kernelspec": {
   "display_name": "venv",
   "language": "python",
   "name": "venv"
  },
  "language_info": {
   "codemirror_mode": {
    "name": "ipython",
    "version": 3
   },
   "file_extension": ".py",
   "mimetype": "text/x-python",
   "name": "python",
   "nbconvert_exporter": "python",
   "pygments_lexer": "ipython3",
   "version": "3.12.2"
  }
 },
 "nbformat": 4,
 "nbformat_minor": 5
}
